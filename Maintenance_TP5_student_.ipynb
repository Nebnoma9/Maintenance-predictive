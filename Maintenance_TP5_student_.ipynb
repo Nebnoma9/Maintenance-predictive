{
 "cells": [
  {
   "cell_type": "markdown",
   "metadata": {
    "id": "6Dlzw5ZhCsOE"
   },
   "source": [
    "# AMDEC\n",
    "\n",
    "On suppose qu'on étudie un bras robotique. Le système est constitué de trois moteurs électriques et trois capteurs de position. Le moteur 0 assure le déplacement sur la chaîne de production, les moteurs 1 et 2 sont redondants et amènent l'outil en position. Chaque capteur est lié à un moteur pour le contrôle-commande.\n",
    "\n",
    "On fait l'hypothèse que les moteurs peuvent subir les pannes suivantes :\n",
    "- problème de rotor\n",
    "- problème de stator\n",
    "\n",
    "De même, les capteurs de position peuvent subir les pannes suivantes :\n",
    "- détachement du support\n",
    "- court-circuit\n",
    "\n",
    "1.1 Pour chaque équipement, faite la liste des fonctions et modes de défaillance, puis les effets.\n",
    "\n"
   ]
  },
  {
   "cell_type": "code",
   "execution_count": 1,
   "metadata": {
    "colab": {
     "base_uri": "https://localhost:8080/",
     "height": 204
    },
    "id": "SMcK926MGvp6",
    "outputId": "174af8d0-c22a-4507-fdb7-af9177810912"
   },
   "outputs": [
    {
     "name": "stdout",
     "output_type": "stream",
     "text": [
      "   Equipement            Fonction Mode de défaillance              Effets  \\\n",
      "0    moteur 0  motricité latérale               rotor          Système HS   \n",
      "1    moteur 0  motricité latérale              stator          Système HS   \n",
      "2    moteur 1     motricité outil               rotor  Système HS/diminué   \n",
      "3    moteur 1     motricité outil              stator  Système HS/diminué   \n",
      "4    moteur 2     motricité outil               rotor  Système HS/diminué   \n",
      "5    moteur 2     motricité outil              stator  Système HS/diminué   \n",
      "6    capteur0          senseur M0         détachement          Système HS   \n",
      "7    capteur0          senseur M0       court-circuit          Système HS   \n",
      "8    capteur1          senseur M1         détachement          Système HS   \n",
      "9    capteur1          senseur M1       court-circuit          Système HS   \n",
      "10   capteur2          senseur M2         détachement          Système HS   \n",
      "11   capteur2          senseur M2       court-circuit          Système HS   \n",
      "\n",
      "      F    D    G    C  \n",
      "0   NaN  NaN  NaN  NaN  \n",
      "1   NaN  NaN  NaN  NaN  \n",
      "2   NaN  NaN  NaN  NaN  \n",
      "3   NaN  NaN  NaN  NaN  \n",
      "4   NaN  NaN  NaN  NaN  \n",
      "5   NaN  NaN  NaN  NaN  \n",
      "6   NaN  NaN  NaN  NaN  \n",
      "7   NaN  NaN  NaN  NaN  \n",
      "8   NaN  NaN  NaN  NaN  \n",
      "9   NaN  NaN  NaN  NaN  \n",
      "10  NaN  NaN  NaN  NaN  \n",
      "11  NaN  NaN  NaN  NaN  \n"
     ]
    }
   ],
   "source": [
    "import pandas as pd\n",
    "AMDEC = pd.DataFrame(data = [], columns=['Equipement', 'Fonction', 'Mode de défaillance', 'Effets', 'F', 'D', 'G', 'C'])\n",
    "# Réponse\n",
    "AMDEC['Equipement'] = ['moteur 0', 'moteur 0', 'moteur 1', 'moteur 1', 'moteur 2', 'moteur 2', 'capteur0', 'capteur0', 'capteur1', 'capteur1', 'capteur2', 'capteur2']\n",
    "AMDEC['Fonction'] = ['motricité latérale', 'motricité latérale', 'motricité outil','motricité outil', 'motricité outil', 'motricité outil', 'senseur M0',  'senseur M0', 'senseur M1', 'senseur M1', 'senseur M2', 'senseur M2']\n",
    "AMDEC['Mode de défaillance'] = ['rotor', 'stator', 'rotor', 'stator', 'rotor', 'stator', 'détachement', 'court-circuit', 'détachement', 'court-circuit', 'détachement', 'court-circuit']\n",
    "AMDEC['Effets'] = ['Système HS', 'Système HS','Système HS/diminué','Système HS/diminué','Système HS/diminué','Système HS/diminué', 'Système HS', 'Système HS','Système HS','Système HS','Système HS','Système HS']\n",
    "print(AMDEC)"
   ]
  },
  {
   "cell_type": "markdown",
   "metadata": {
    "id": "xZ2yG6caGu0F"
   },
   "source": [
    "\n",
    "## Fréquence\n",
    "Vous récupérez les données suivantes, extraites des logs de l'année dernière :\n",
    "- l'équipement a fonctionné 1714h\n",
    "- le moteur 0 a fonctionné 1417h\n",
    "- les moteurs 1 et 2 sont identiques et ont fonctionné 1518h\n",
    "- 28 fois, le moteur 0 a eu un problème de rotor\n",
    "- 31 fois, le moteur 0 a eu un problème de stator\n",
    "- 14 fois, le moteur 1 a eu un problème de stator\n",
    "- 17 fois, le moteur 1 a eu un problème de rotor\n",
    "- 4 fois, le moteur 2 a eu un problème de rotor\n",
    "- 9 fois, le moteur 2 a eu un problème de stator\n",
    "- 12 fois, il y a eu un court circuit, mais impossible de savoir la source\n",
    "- par 3 fois des capteurs se sont détachés\n",
    "\n",
    "1.2 remplissez la colonne 'F', avec comme grille repère :\n",
    "*   1 : < 1/1000 h\n",
    "*   2 : < 1/100 h\n",
    "*   3 : < 1/10 h\n",
    "*   4 : < 1/1 h"
   ]
  },
  {
   "cell_type": "code",
   "execution_count": 2,
   "metadata": {
    "colab": {
     "base_uri": "https://localhost:8080/"
    },
    "id": "lfVjWHa6Hm34",
    "outputId": "da7955b2-4108-46ee-8c73-0214ddb3a647"
   },
   "outputs": [
    {
     "name": "stdout",
     "output_type": "stream",
     "text": [
      "[0.01976006 0.02187721 0.00757576 0.006917   0.00233372 0.00058343]\n",
      "[0.001 0.01  0.1   1.   ]\n",
      "   Equipement            Fonction Mode de défaillance      Effets  F    D  \\\n",
      "0    moteur 0  motricité latérale               rotor  Système HS  3  NaN   \n",
      "1    moteur 0  motricité latérale              stator  Système HS  3  NaN   \n",
      "2    moteur 1     motricité outil               rotor  Système HS  2  NaN   \n",
      "3    moteur 1     motricité outil              stator  Système HS  2  NaN   \n",
      "4    moteur 2     motricité outil               rotor  Système HS  2  NaN   \n",
      "5    moteur 2     motricité outil              stator  Système HS  2  NaN   \n",
      "6    capteur0          senseur M0         détachement  Système HS  2  NaN   \n",
      "7    capteur0          senseur M0       court-circuit  Système HS  1  NaN   \n",
      "8    capteur1          senseur M1         détachement  Système HS  2  NaN   \n",
      "9    capteur1          senseur M1       court-circuit  Système HS  1  NaN   \n",
      "10   capteur2          senseur M2         détachement  Système HS  2  NaN   \n",
      "11   capteur2          senseur M2       court-circuit  Système HS  1  NaN   \n",
      "\n",
      "      G    C  \n",
      "0   NaN  NaN  \n",
      "1   NaN  NaN  \n",
      "2   NaN  NaN  \n",
      "3   NaN  NaN  \n",
      "4   NaN  NaN  \n",
      "5   NaN  NaN  \n",
      "6   NaN  NaN  \n",
      "7   NaN  NaN  \n",
      "8   NaN  NaN  \n",
      "9   NaN  NaN  \n",
      "10  NaN  NaN  \n",
      "11  NaN  NaN  \n"
     ]
    }
   ],
   "source": [
    "# réponse # M0R, M0S, M12R, M12S, s012c, s012d \n",
    "import numpy as np\n",
    "freq = np.array([28/1417,\n",
    "                 31/1417,\n",
    "                 (14+9)/(1518*2),\n",
    "                 (17+4)/(1518*2),\n",
    "                 3/(1714*3),\n",
    "                 12/(1714*3)])\n",
    "print(freq)\n",
    "\n",
    "levels = np.array([1/1000, 1/100, 1/10, 1/1])\n",
    "print(levels)\n",
    "\n",
    "def cotation(fq, levels):\n",
    "    return np.min(np.argwhere(fq < levels)) + 1\n",
    "\n",
    "list_cotation = []\n",
    "for r in [0, 1, 2, 3, 2, 3, 4, 5, 4, 5, 4, 5]:\n",
    "    list_cotation.append(cotation(freq[r], levels))\n",
    "    \n",
    "AMDEC['F'] = list_cotation\n",
    "print(AMDEC)"
   ]
  },
  {
   "cell_type": "markdown",
   "metadata": {
    "id": "SyOm_3DnHnoj"
   },
   "source": [
    "## Détection\n",
    "\n",
    "Les capteurs de position permettent de détecter un mauvais positionnement des moteurs avec une probabilité de 45% pour le moteur 0 et 55% pour les moteurs 1 & 2.\n",
    "\n",
    "1.3 Remplissez la colonne D, avec comme grille repère :\n",
    "*   1 : 90%\n",
    "*   2 : 50%\n",
    "*   3 : 10%\n",
    "*   4 : 0%"
   ]
  },
  {
   "cell_type": "code",
   "execution_count": 3,
   "metadata": {
    "id": "tf43KqwCHnX8"
   },
   "outputs": [],
   "source": [
    "AMDEC['D'] = [3, 3, 2, 2, 2, 2, 4, 4, 4, 4, 4, 4]"
   ]
  },
  {
   "cell_type": "markdown",
   "metadata": {
    "id": "dyl0m0InIMUs"
   },
   "source": [
    "## Gravité\n",
    "\n",
    "Deux cas sont envisagés : robot en environnement contrôlé vs robot en environnement ouvert.\n",
    "\n",
    "1.4 Remplissez la colonne G, avec comme grille repère suivante :\n",
    "*   1 : production nominale\n",
    "*   2 : production ralentie\n",
    "*   3 : production arrêtée\n",
    "*   4 : équipement détruit / blessés humains"
   ]
  },
  {
   "cell_type": "code",
   "execution_count": 4,
   "metadata": {
    "id": "41aODPjpIq34"
   },
   "outputs": [],
   "source": [
    "# environnement contrôlé\n",
    "AMDEC['G'] = [3, 3, 3, 3, 3, 3, 3, 3, 3, 3, 3, 3]\n",
    "# environnement ouvert \n",
    "# AMDEC['G'] = [4, 4, 4, 4, 4, 4, 4, 4, 4, 4, 4, 4]"
   ]
  },
  {
   "cell_type": "markdown",
   "metadata": {
    "id": "YOZrOAYTxwku"
   },
   "source": [
    "1.5 Calculez la colonne C."
   ]
  },
  {
   "cell_type": "code",
   "execution_count": 5,
   "metadata": {
    "colab": {
     "base_uri": "https://localhost:8080/"
    },
    "id": "E6CpZwt_xzLZ",
    "outputId": "890d7140-47ae-4b94-e0d0-3c2c458fd36d"
   },
   "outputs": [
    {
     "name": "stdout",
     "output_type": "stream",
     "text": [
      "0     27\n",
      "1     27\n",
      "2     12\n",
      "3     12\n",
      "4     12\n",
      "5     12\n",
      "6     24\n",
      "7     12\n",
      "8     24\n",
      "9     12\n",
      "10    24\n",
      "11    12\n",
      "Name: C, dtype: int64\n"
     ]
    }
   ],
   "source": [
    "AMDEC['C'] =  AMDEC['F'] * AMDEC['G'] *AMDEC['D'] \n",
    "print(AMDEC['C'])"
   ]
  },
  {
   "cell_type": "markdown",
   "metadata": {
    "id": "xSU95Nf7Ir5Z"
   },
   "source": [
    "1.6 Quels problèmes détectez-vous ? Quelles solutions ?"
   ]
  },
  {
   "cell_type": "markdown",
   "metadata": {
    "id": "p4NlyMgqI0gE"
   },
   "source": [
    "Le moteur 0 est critique. Solution : améliorer la détection / changer de moteur.\n",
    "\n",
    "Les moteurs 1 & 2 sont moins critiques, on peut laisser ou changer en fonction de la finalité du robot."
   ]
  },
  {
   "cell_type": "markdown",
   "metadata": {
    "id": "HqULKJPtI1QT"
   },
   "source": [
    "## Arbres de défaillances\n",
    "\n",
    "\n",
    "2.1 Faites l'arbre de défaillance du système, en ignorant les capteurs."
   ]
  },
  {
   "cell_type": "code",
   "execution_count": 6,
   "metadata": {
    "id": "k2WGPNc43UKk"
   },
   "outputs": [],
   "source": [
    "# Réponse \n",
    "#Une porte ET entre M0 et le système (M1, M2), une porte OU entre M1 et M2."
   ]
  },
  {
   "cell_type": "markdown",
   "metadata": {
    "id": "qfLzOsnJjaOQ"
   },
   "source": [
    "Les caractéristiques des produits sur le marché sont données dans le dataFrame ci-dessous.\n"
   ]
  },
  {
   "cell_type": "code",
   "execution_count": 7,
   "metadata": {
    "colab": {
     "base_uri": "https://localhost:8080/"
    },
    "id": "22ApFwG9jauZ",
    "outputId": "912f855f-23fe-492a-bae3-09a1bcdcef9e"
   },
   "outputs": [],
   "source": [
    "#from google.colab import drive\n",
    "#drive.mount('/content/drive')\n",
    "#from google.colab import files\n",
    "#files.upload() # Sélectionnez TP5_Catalogue.csv"
   ]
  },
  {
   "cell_type": "code",
   "execution_count": null,
   "metadata": {
    "id": "gI4mp3D2n0QT"
   },
   "outputs": [],
   "source": []
  },
  {
   "cell_type": "code",
   "execution_count": 8,
   "metadata": {
    "colab": {
     "base_uri": "https://localhost:8080/"
    },
    "id": "wDrtFwZ3nYGe",
    "outputId": "7f963d4b-6f4c-4b2d-a3bf-e1a05f893b48"
   },
   "outputs": [
    {
     "name": "stdout",
     "output_type": "stream",
     "text": [
      "  Equipement  Puissance  Prix  Fiabilite\n",
      "0   Moteur 1       0.18    92       0.78\n",
      "1   Moteur 2       0.25    97       0.82\n",
      "2   Moteur 3       0.37   103       0.98\n",
      "3   Moteur 4       0.37   107       0.99\n",
      "4   Moteur 5       0.55   115       0.97\n"
     ]
    }
   ],
   "source": [
    "import pandas as pd\n",
    "catalogue = pd.read_csv('data/TP5_Catalogue.csv', sep=';')\n",
    "print(catalogue.head())"
   ]
  },
  {
   "cell_type": "markdown",
   "metadata": {
    "id": "tE6MwXY9jbPf"
   },
   "source": [
    "2.2 Sachant que vous avez besoin d'une puissance minimale de 0.5 pour le moteur 0 et une puissance minimale de 0.2 pour les moteurs du bras, quel choix prenez vous, sachant que vous voulez le prix minimum pour la plus grande fiabilité de votre système complet ?"
   ]
  },
  {
   "cell_type": "code",
   "execution_count": 9,
   "metadata": {
    "colab": {
     "base_uri": "https://localhost:8080/",
     "height": 387
    },
    "id": "nqVHNh-9obZk",
    "outputId": "95fceb5c-9418-421c-989c-0780e96f21ae"
   },
   "outputs": [
    {
     "name": "stdout",
     "output_type": "stream",
     "text": [
      "  Equipement  Puissance  Prix  Fiabilite\n",
      "4   Moteur 5       0.55   115       0.97\n",
      "5   Moteur 6       0.60   172       0.99\n",
      "6   Moteur 7       1.10   187       0.79\n",
      "7   Moteur 8       1.50   223       0.88\n",
      "8   Moteur 9       2.20   264       0.97\n",
      "    Prix  Fiabilite                  Choix\n",
      "21   386   0.989901   [Moteur 6, Moteur 4]\n",
      "23   516   0.989901   [Moteur 6, Moteur 6]\n",
      "20   378   0.989604   [Moteur 6, Moteur 3]\n",
      "31   388   0.989109  [Moteur 6, Moteur 16]\n",
      "22   402   0.989109   [Moteur 6, Moteur 5]\n"
     ]
    },
    {
     "data": {
      "image/png": "[encoded data removed]",
      "text/plain": [
       "<Figure size 432x288 with 1 Axes>"
      ]
     },
     "metadata": {
      "needs_background": "light"
     },
     "output_type": "display_data"
    }
   ],
   "source": [
    "import matplotlib.pyplot as plt\n",
    "# Réponse\n",
    "choiceM0 = catalogue.loc[catalogue['Puissance'] > 0.5]\n",
    "choiceM12 = catalogue.loc[catalogue['Puissance'] > 0.2]\n",
    "print(choiceM0.head())\n",
    "Compare = pd.DataFrame(data = [], columns=['Prix', 'Fiabilite', 'Choix'])\n",
    "\n",
    "listPrix = []\n",
    "listFiabilite = []\n",
    "listChoice = []\n",
    "for ind0, M0 in choiceM0.iterrows():\n",
    "    for ind12, M12 in choiceM12.iterrows():\n",
    "        listPrix.append(M0['Prix'] + 2 * M12['Prix'])\n",
    "        listFiabilite.append(M0['Fiabilite'] * (1 - (1- M12['Fiabilite'])**2))\n",
    "        listChoice.append([M0['Equipement'], M12['Equipement']])\n",
    "\n",
    "Compare['Prix'] = listPrix\n",
    "Compare['Fiabilite'] = listFiabilite\n",
    "Compare['Choix'] = listChoice\n",
    "\n",
    "plt.plot(Compare['Prix'], Compare['Fiabilite'], '.')\n",
    "\n",
    "print(Compare.sort_values(by=['Fiabilite', 'Prix'], ascending=[False, True]).head())\n"
   ]
  },
  {
   "cell_type": "markdown",
   "metadata": {
    "id": "iXeD54isp5r3"
   },
   "source": [
    "# Réseaux bayésiens\n",
    "\n"
   ]
  },
  {
   "cell_type": "code",
   "execution_count": 10,
   "metadata": {
    "id": "g66RyYo1vFiN",
    "scrolled": true
   },
   "outputs": [
    {
     "name": "stdout",
     "output_type": "stream",
     "text": [
      "Requirement already satisfied: bnlearn in c:\\users\\d559009\\anaconda3\\lib\\site-packages (0.7.12)\n",
      "Requirement already satisfied: scikit-learn in c:\\users\\d559009\\anaconda3\\lib\\site-packages (from bnlearn) (1.1.3)\n",
      "Requirement already satisfied: tqdm in c:\\users\\d559009\\anaconda3\\lib\\site-packages (from bnlearn) (4.50.2)\n",
      "Requirement already satisfied: matplotlib>=3.3.4 in c:\\users\\d559009\\appdata\\roaming\\python\\python38\\site-packages (from bnlearn) (3.5.1)\n",
      "Requirement already satisfied: statsmodels in c:\\users\\d559009\\anaconda3\\lib\\site-packages (from bnlearn) (0.12.0)\n",
      "Requirement already satisfied: pgmpy>=0.1.18 in c:\\users\\d559009\\anaconda3\\lib\\site-packages (from bnlearn) (0.1.21)\n",
      "Requirement already satisfied: packaging in c:\\users\\d559009\\anaconda3\\lib\\site-packages (from bnlearn) (20.4)\n",
      "Requirement already satisfied: python-louvain in c:\\users\\d559009\\anaconda3\\lib\\site-packages (from bnlearn) (0.16)\n",
      "Requirement already satisfied: pypickle in c:\\users\\d559009\\anaconda3\\lib\\site-packages (from bnlearn) (1.1.0)\n",
      "Requirement already satisfied: pandas in c:\\users\\d559009\\anaconda3\\lib\\site-packages (from bnlearn) (1.1.3)\n",
      "Requirement already satisfied: wget in c:\\users\\d559009\\anaconda3\\lib\\site-packages (from bnlearn) (3.2)\n",
      "Requirement already satisfied: ipywidgets in c:\\users\\d559009\\anaconda3\\lib\\site-packages (from bnlearn) (7.5.1)\n",
      "Requirement already satisfied: pyvis in c:\\users\\d559009\\anaconda3\\lib\\site-packages (from bnlearn) (0.3.1)\n",
      "Requirement already satisfied: fsspec in c:\\users\\d559009\\anaconda3\\lib\\site-packages (from bnlearn) (0.8.3)\n",
      "Requirement already satisfied: numpy in c:\\users\\d559009\\anaconda3\\lib\\site-packages (from bnlearn) (1.22.0)\n",
      "Requirement already satisfied: df2onehot in c:\\users\\d559009\\anaconda3\\lib\\site-packages (from bnlearn) (1.0.1)\n",
      "Requirement already satisfied: networkx>=2.7.1 in c:\\users\\d559009\\anaconda3\\lib\\site-packages (from bnlearn) (2.7.1)\n",
      "Requirement already satisfied: tabulate in c:\\users\\d559009\\anaconda3\\lib\\site-packages (from bnlearn) (0.8.9)\n",
      "Requirement already satisfied: ismember in c:\\users\\d559009\\anaconda3\\lib\\site-packages (from bnlearn) (1.0.1)\n",
      "Requirement already satisfied: funcsigs in c:\\users\\d559009\\anaconda3\\lib\\site-packages (from bnlearn) (1.0.2)\n",
      "Requirement already satisfied: threadpoolctl>=2.0.0 in c:\\users\\d559009\\anaconda3\\lib\\site-packages (from scikit-learn->bnlearn) (2.1.0)\n",
      "Requirement already satisfied: joblib>=1.0.0 in c:\\users\\d559009\\anaconda3\\lib\\site-packages (from scikit-learn->bnlearn) (1.2.0)\n",
      "Requirement already satisfied: scipy>=1.3.2 in c:\\users\\d559009\\anaconda3\\lib\\site-packages (from scikit-learn->bnlearn) (1.5.2)\n",
      "Requirement already satisfied: pillow>=6.2.0 in c:\\users\\d559009\\anaconda3\\lib\\site-packages (from matplotlib>=3.3.4->bnlearn) (8.0.1)\n",
      "Requirement already satisfied: fonttools>=4.22.0 in c:\\users\\d559009\\anaconda3\\lib\\site-packages (from matplotlib>=3.3.4->bnlearn) (4.30.0)\n",
      "Requirement already satisfied: pyparsing>=2.2.1 in c:\\users\\d559009\\anaconda3\\lib\\site-packages (from matplotlib>=3.3.4->bnlearn) (2.4.7)\n",
      "Requirement already satisfied: python-dateutil>=2.7 in c:\\users\\d559009\\anaconda3\\lib\\site-packages (from matplotlib>=3.3.4->bnlearn) (2.8.1)\n",
      "Requirement already satisfied: kiwisolver>=1.0.1 in c:\\users\\d559009\\anaconda3\\lib\\site-packages (from matplotlib>=3.3.4->bnlearn) (1.3.0)\n",
      "Requirement already satisfied: cycler>=0.10 in c:\\users\\d559009\\anaconda3\\lib\\site-packages (from matplotlib>=3.3.4->bnlearn) (0.10.0)\n",
      "Requirement already satisfied: patsy>=0.5 in c:\\users\\d559009\\anaconda3\\lib\\site-packages (from statsmodels->bnlearn) (0.5.1)\n",
      "Requirement already satisfied: torch in c:\\users\\d559009\\anaconda3\\lib\\site-packages (from pgmpy>=0.1.18->bnlearn) (1.10.2)\n",
      "Requirement already satisfied: opt-einsum in c:\\users\\d559009\\anaconda3\\lib\\site-packages (from pgmpy>=0.1.18->bnlearn) (3.3.0)\n",
      "Requirement already satisfied: six in c:\\users\\d559009\\anaconda3\\lib\\site-packages (from packaging->bnlearn) (1.15.0)\n",
      "Requirement already satisfied: pytz>=2017.2 in c:\\users\\d559009\\anaconda3\\lib\\site-packages (from pandas->bnlearn) (2020.1)\n",
      "Requirement already satisfied: ipykernel>=4.5.1 in c:\\users\\d559009\\anaconda3\\lib\\site-packages (from ipywidgets->bnlearn) (5.3.4)\n",
      "Requirement already satisfied: traitlets>=4.3.1 in c:\\users\\d559009\\anaconda3\\lib\\site-packages (from ipywidgets->bnlearn) (5.0.5)\n",
      "Requirement already satisfied: ipython>=4.0.0; python_version >= \"3.3\" in c:\\users\\d559009\\anaconda3\\lib\\site-packages (from ipywidgets->bnlearn) (7.19.0)\n",
      "Requirement already satisfied: nbformat>=4.2.0 in c:\\users\\d559009\\anaconda3\\lib\\site-packages (from ipywidgets->bnlearn) (5.0.8)\n",
      "Requirement already satisfied: widgetsnbextension~=3.5.0 in c:\\users\\d559009\\anaconda3\\lib\\site-packages (from ipywidgets->bnlearn) (3.5.1)\n",
      "Requirement already satisfied: jinja2>=2.9.6 in c:\\users\\d559009\\anaconda3\\lib\\site-packages (from pyvis->bnlearn) (2.11.2)\n",
      "Requirement already satisfied: jsonpickle>=1.4.1 in c:\\users\\d559009\\anaconda3\\lib\\site-packages (from pyvis->bnlearn) (3.0.1)\n",
      "Requirement already satisfied: sklearn in c:\\users\\d559009\\anaconda3\\lib\\site-packages (from df2onehot->bnlearn) (0.0)\n",
      "Requirement already satisfied: typing-extensions in c:\\users\\d559009\\anaconda3\\lib\\site-packages (from torch->pgmpy>=0.1.18->bnlearn) (3.7.4.3)\n",
      "Requirement already satisfied: jupyter-client in c:\\users\\d559009\\anaconda3\\lib\\site-packages (from ipykernel>=4.5.1->ipywidgets->bnlearn) (6.1.7)\n",
      "Requirement already satisfied: tornado>=4.2 in c:\\users\\d559009\\anaconda3\\lib\\site-packages (from ipykernel>=4.5.1->ipywidgets->bnlearn) (6.0.4)\n",
      "Requirement already satisfied: ipython-genutils in c:\\users\\d559009\\anaconda3\\lib\\site-packages (from traitlets>=4.3.1->ipywidgets->bnlearn) (0.2.0)\n",
      "Requirement already satisfied: pygments in c:\\users\\d559009\\anaconda3\\lib\\site-packages (from ipython>=4.0.0; python_version >= \"3.3\"->ipywidgets->bnlearn) (2.7.2)\n",
      "Requirement already satisfied: colorama; sys_platform == \"win32\" in c:\\users\\d559009\\anaconda3\\lib\\site-packages (from ipython>=4.0.0; python_version >= \"3.3\"->ipywidgets->bnlearn) (0.4.4)\n",
      "Requirement already satisfied: prompt-toolkit!=3.0.0,!=3.0.1,<3.1.0,>=2.0.0 in c:\\users\\d559009\\anaconda3\\lib\\site-packages (from ipython>=4.0.0; python_version >= \"3.3\"->ipywidgets->bnlearn) (3.0.8)\n",
      "Requirement already satisfied: pickleshare in c:\\users\\d559009\\anaconda3\\lib\\site-packages (from ipython>=4.0.0; python_version >= \"3.3\"->ipywidgets->bnlearn) (0.7.5)\n",
      "Requirement already satisfied: decorator in c:\\users\\d559009\\anaconda3\\lib\\site-packages (from ipython>=4.0.0; python_version >= \"3.3\"->ipywidgets->bnlearn) (4.4.2)\n",
      "Requirement already satisfied: setuptools>=18.5 in c:\\users\\d559009\\anaconda3\\lib\\site-packages (from ipython>=4.0.0; python_version >= \"3.3\"->ipywidgets->bnlearn) (50.3.1.post20201107)\n",
      "Requirement already satisfied: jedi>=0.10 in c:\\users\\d559009\\anaconda3\\lib\\site-packages (from ipython>=4.0.0; python_version >= \"3.3\"->ipywidgets->bnlearn) (0.17.1)\n",
      "Requirement already satisfied: backcall in c:\\users\\d559009\\anaconda3\\lib\\site-packages (from ipython>=4.0.0; python_version >= \"3.3\"->ipywidgets->bnlearn) (0.2.0)\n",
      "Requirement already satisfied: jupyter-core in c:\\users\\d559009\\anaconda3\\lib\\site-packages (from nbformat>=4.2.0->ipywidgets->bnlearn) (4.6.3)\n",
      "Requirement already satisfied: jsonschema!=2.5.0,>=2.4 in c:\\users\\d559009\\anaconda3\\lib\\site-packages (from nbformat>=4.2.0->ipywidgets->bnlearn) (3.2.0)\n",
      "Requirement already satisfied: notebook>=4.4.1 in c:\\users\\d559009\\anaconda3\\lib\\site-packages (from widgetsnbextension~=3.5.0->ipywidgets->bnlearn) (6.1.4)\n",
      "Requirement already satisfied: MarkupSafe>=0.23 in c:\\users\\d559009\\anaconda3\\lib\\site-packages (from jinja2>=2.9.6->pyvis->bnlearn) (1.1.1)\n",
      "Requirement already satisfied: pyzmq>=13 in c:\\users\\d559009\\anaconda3\\lib\\site-packages (from jupyter-client->ipykernel>=4.5.1->ipywidgets->bnlearn) (19.0.2)\n",
      "Requirement already satisfied: wcwidth in c:\\users\\d559009\\anaconda3\\lib\\site-packages (from prompt-toolkit!=3.0.0,!=3.0.1,<3.1.0,>=2.0.0->ipython>=4.0.0; python_version >= \"3.3\"->ipywidgets->bnlearn) (0.2.5)\n",
      "Requirement already satisfied: parso<0.8.0,>=0.7.0 in c:\\users\\d559009\\anaconda3\\lib\\site-packages (from jedi>=0.10->ipython>=4.0.0; python_version >= \"3.3\"->ipywidgets->bnlearn) (0.7.0)\n",
      "Requirement already satisfied: pywin32>=1.0; sys_platform == \"win32\" in c:\\users\\d559009\\anaconda3\\lib\\site-packages (from jupyter-core->nbformat>=4.2.0->ipywidgets->bnlearn) (227)\n",
      "Requirement already satisfied: attrs>=17.4.0 in c:\\users\\d559009\\anaconda3\\lib\\site-packages (from jsonschema!=2.5.0,>=2.4->nbformat>=4.2.0->ipywidgets->bnlearn) (20.3.0)\n",
      "Requirement already satisfied: pyrsistent>=0.14.0 in c:\\users\\d559009\\anaconda3\\lib\\site-packages (from jsonschema!=2.5.0,>=2.4->nbformat>=4.2.0->ipywidgets->bnlearn) (0.17.3)\n",
      "Requirement already satisfied: prometheus-client in c:\\users\\d559009\\anaconda3\\lib\\site-packages (from notebook>=4.4.1->widgetsnbextension~=3.5.0->ipywidgets->bnlearn) (0.8.0)\n",
      "Requirement already satisfied: Send2Trash in c:\\users\\d559009\\anaconda3\\lib\\site-packages (from notebook>=4.4.1->widgetsnbextension~=3.5.0->ipywidgets->bnlearn) (1.5.0)\n",
      "Requirement already satisfied: terminado>=0.8.3 in c:\\users\\d559009\\anaconda3\\lib\\site-packages (from notebook>=4.4.1->widgetsnbextension~=3.5.0->ipywidgets->bnlearn) (0.9.1)\n",
      "Requirement already satisfied: nbconvert in c:\\users\\d559009\\anaconda3\\lib\\site-packages (from notebook>=4.4.1->widgetsnbextension~=3.5.0->ipywidgets->bnlearn) (6.0.7)\n",
      "Requirement already satisfied: argon2-cffi in c:\\users\\d559009\\anaconda3\\lib\\site-packages (from notebook>=4.4.1->widgetsnbextension~=3.5.0->ipywidgets->bnlearn) (20.1.0)\n",
      "Requirement already satisfied: pywinpty>=0.5 in c:\\users\\d559009\\anaconda3\\lib\\site-packages (from terminado>=0.8.3->notebook>=4.4.1->widgetsnbextension~=3.5.0->ipywidgets->bnlearn) (0.5.7)\n",
      "Requirement already satisfied: entrypoints>=0.2.2 in c:\\users\\d559009\\anaconda3\\lib\\site-packages (from nbconvert->notebook>=4.4.1->widgetsnbextension~=3.5.0->ipywidgets->bnlearn) (0.3)\n",
      "Requirement already satisfied: jupyterlab-pygments in c:\\users\\d559009\\anaconda3\\lib\\site-packages (from nbconvert->notebook>=4.4.1->widgetsnbextension~=3.5.0->ipywidgets->bnlearn) (0.1.2)\n",
      "Requirement already satisfied: nbclient<0.6.0,>=0.5.0 in c:\\users\\d559009\\anaconda3\\lib\\site-packages (from nbconvert->notebook>=4.4.1->widgetsnbextension~=3.5.0->ipywidgets->bnlearn) (0.5.1)\n",
      "Requirement already satisfied: pandocfilters>=1.4.1 in c:\\users\\d559009\\anaconda3\\lib\\site-packages (from nbconvert->notebook>=4.4.1->widgetsnbextension~=3.5.0->ipywidgets->bnlearn) (1.4.3)\n",
      "Requirement already satisfied: defusedxml in c:\\users\\d559009\\anaconda3\\lib\\site-packages (from nbconvert->notebook>=4.4.1->widgetsnbextension~=3.5.0->ipywidgets->bnlearn) (0.6.0)\n",
      "Requirement already satisfied: bleach in c:\\users\\d559009\\anaconda3\\lib\\site-packages (from nbconvert->notebook>=4.4.1->widgetsnbextension~=3.5.0->ipywidgets->bnlearn) (3.2.1)\n",
      "Requirement already satisfied: testpath in c:\\users\\d559009\\anaconda3\\lib\\site-packages (from nbconvert->notebook>=4.4.1->widgetsnbextension~=3.5.0->ipywidgets->bnlearn) (0.4.4)\n",
      "Requirement already satisfied: mistune<2,>=0.8.1 in c:\\users\\d559009\\anaconda3\\lib\\site-packages (from nbconvert->notebook>=4.4.1->widgetsnbextension~=3.5.0->ipywidgets->bnlearn) (0.8.4)\n",
      "Requirement already satisfied: cffi>=1.0.0 in c:\\users\\d559009\\anaconda3\\lib\\site-packages (from argon2-cffi->notebook>=4.4.1->widgetsnbextension~=3.5.0->ipywidgets->bnlearn) (1.14.3)\n",
      "Requirement already satisfied: nest-asyncio in c:\\users\\d559009\\anaconda3\\lib\\site-packages (from nbclient<0.6.0,>=0.5.0->nbconvert->notebook>=4.4.1->widgetsnbextension~=3.5.0->ipywidgets->bnlearn) (1.4.2)\n",
      "Requirement already satisfied: async-generator in c:\\users\\d559009\\anaconda3\\lib\\site-packages (from nbclient<0.6.0,>=0.5.0->nbconvert->notebook>=4.4.1->widgetsnbextension~=3.5.0->ipywidgets->bnlearn) (1.10)\n",
      "Requirement already satisfied: webencodings in c:\\users\\d559009\\anaconda3\\lib\\site-packages (from bleach->nbconvert->notebook>=4.4.1->widgetsnbextension~=3.5.0->ipywidgets->bnlearn) (0.5.1)\n",
      "Requirement already satisfied: pycparser in c:\\users\\d559009\\anaconda3\\lib\\site-packages (from cffi>=1.0.0->argon2-cffi->notebook>=4.4.1->widgetsnbextension~=3.5.0->ipywidgets->bnlearn) (2.20)\n"
     ]
    }
   ],
   "source": [
    "#!pip install pgmpy==0.1.21\n",
    "!pip install bnlearn"
   ]
  },
  {
   "cell_type": "code",
   "execution_count": 11,
   "metadata": {},
   "outputs": [],
   "source": [
    "import bnlearn"
   ]
  },
  {
   "cell_type": "code",
   "execution_count": 12,
   "metadata": {
    "colab": {
     "base_uri": "https://localhost:8080/",
     "height": 109,
     "resources": {
      "http://localhost:8080/nbextensions/google.colab/files.js": {
       "data": "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",
       "headers": [
        [
         "content-type",
         "application/javascript"
        ]
       ],
       "ok": true,
       "status": 200,
       "status_text": ""
      }
     }
    },
    "id": "WeAYMmvIPJFt",
    "outputId": "ab93b17b-279e-4717-8a71-870f8ef4e62e"
   },
   "outputs": [],
   "source": [
    "#files.upload() # Sélectionnez les données \"data_printer.csv\""
   ]
  },
  {
   "cell_type": "code",
   "execution_count": 13,
   "metadata": {},
   "outputs": [
    {
     "name": "stdout",
     "output_type": "stream",
     "text": [
      "   Unnamed: 0  encre  question_ink  papier  question_paper  pilote  \\\n",
      "0           0      0             1       1               1       1   \n",
      "1           1      0             1       1               1       1   \n",
      "2           2      0             0       1               1       1   \n",
      "3           3      1             1       0               0       1   \n",
      "4           4      1             1       0               1       1   \n",
      "\n",
      "   question_screen  action_addink  action_addpaper  action_reboot  \n",
      "0                1              0                1              1  \n",
      "1                1              0                1              1  \n",
      "2                0              0                1              1  \n",
      "3                1              1                0              1  \n",
      "4                1              1                0              1  \n"
     ]
    }
   ],
   "source": [
    "import pandas as pd\n",
    "data_printer = pd.read_csv('data/TP5_data_printer.csv', sep=';')\n",
    "print(data_printer.head())"
   ]
  },
  {
   "cell_type": "markdown",
   "metadata": {
    "id": "Uc-FWhsyCeyR"
   },
   "source": [
    "Nous allons étudier un modèle simple d'imprimante. On suppose que cette imprimante présente 3 pannes distinctes:\n",
    "- problème d'encre\n",
    "- problème de papier\n",
    "- problème de pilote\n",
    "Vous pouvez poser 3 questions :\n",
    "- y-a-til de l'encre ?\n",
    "- y-a-til du papier ?\n",
    "- l'écran affiche-t-il un code d'erreur ?\n",
    "Vous pouvez faire 3 actions :\n",
    "- remplir l'encre\n",
    "- remplir le papier\n",
    "- redémarrer\n",
    "\n",
    "Nous utiliserons le package bnlearn : https://erdogant.github.io/bnlearn/pages/html/index.html \n",
    "\n",
    "3.1 Proposez une structure de réseau bayésien, puis affichez la."
   ]
  },
  {
   "cell_type": "code",
   "execution_count": 14,
   "metadata": {
    "colab": {
     "base_uri": "https://localhost:8080/"
    },
    "id": "qlxnQcwQDP72",
    "outputId": "b1cdc4a1-9746-45e3-8376-891132666fcc"
   },
   "outputs": [
    {
     "name": "stdout",
     "output_type": "stream",
     "text": [
      "[bnlearn] >bayes DAG created.\n"
     ]
    }
   ],
   "source": [
    "import bnlearn\n",
    "# Réponse:\n",
    "edges = [('encre', 'papier'),\n",
    "         ('papier', 'pilote'),\n",
    "         ('encre', 'pilote'),\n",
    "         ('papier', 'question_paper'),\n",
    "         ('encre', 'question_ink'),\n",
    "         ('papier', 'question_screen'),\n",
    "         ('pilote', 'question_screen'),\n",
    "         ('encre', 'question_screen'),\n",
    "         ('pilote', 'action_addpaper'),\n",
    "         ('pilote', 'action_addink'),\n",
    "         ('pilote', 'action_reboot'),\n",
    "         ('encre', 'action_addpaper'),\n",
    "         ('encre', 'action_addink'),\n",
    "         ('encre', 'action_reboot'),\n",
    "         ('papier', 'action_addpaper'),\n",
    "         ('papier', 'action_addink'),\n",
    "         ('papier', 'action_reboot'),\n",
    "         ]\n",
    "DAG = bnlearn.make_DAG(edges)"
   ]
  },
  {
   "cell_type": "code",
   "execution_count": 16,
   "metadata": {},
   "outputs": [
    {
     "data": {
      "text/plain": [
       "'3.5.1'"
      ]
     },
     "execution_count": 16,
     "metadata": {},
     "output_type": "execute_result"
    }
   ],
   "source": [
    "import matplotlib as mp\n",
    "mp.__version__"
   ]
  },
  {
   "cell_type": "code",
   "execution_count": 29,
   "metadata": {
    "colab": {
     "base_uri": "https://localhost:8080/",
     "height": 653
    },
    "id": "kORsgnVkM9ze",
    "outputId": "13debb46-8e33-433b-de01-713a85b1bd5e"
   },
   "outputs": [
    {
     "name": "stdout",
     "output_type": "stream",
     "text": [
      "[bnlearn] >bayes DAG created.\n",
      "[bnlearn] >Set node properties.\n",
      "[bnlearn] >Set edge properties.\n",
      "[bnlearn] >Plot based on Bayesian model\n"
     ]
    },
    {
     "data": {
      "image/png": "[encoded data removed]",
      "text/plain": [
       "<Figure size 1080x720 with 1 Axes>"
      ]
     },
     "metadata": {},
     "output_type": "display_data"
    }
   ],
   "source": [
    "#Réponse:\n",
    "DAG = bnlearn.make_DAG(edges)\n",
    "node_properties = bnlearn.get_node_properties(DAG);\n",
    "bnlearn.plot(DAG, interactive=False, node_properties=node_properties, verbose=4);"
   ]
  },
  {
   "cell_type": "markdown",
   "metadata": {
    "id": "omc3ns46QvMD"
   },
   "source": [
    "Téléchargeons les données de l'imprimante et des maintenances associées.\n",
    "Pour note:\n",
    "*   encre, papier, pilote = 0 --> panne\n",
    "*   action_ = 0 --> succès de l'action\n",
    "*   question_ink = 0 --> pas d'encre\n",
    "*   question_paper = 0 --> pas de papier\n",
    "*   question_screen = 0 --> problème écran"
   ]
  },
  {
   "cell_type": "markdown",
   "metadata": {
    "id": "hWK8akGcPWdr"
   },
   "source": [
    "3.2 Apprenez les paramètres du réseau bayésien."
   ]
  },
  {
   "cell_type": "code",
   "execution_count": 23,
   "metadata": {
    "colab": {
     "base_uri": "https://localhost:8080/"
    },
    "id": "PrjssLiSA5g3",
    "outputId": "90d18c66-06fa-4aec-f74f-a258186e3017",
    "scrolled": false
   },
   "outputs": [
    {
     "name": "stdout",
     "output_type": "stream",
     "text": [
      "[bnlearn] >Removing columns from dataframe to make consistent with DAG [['Unnamed: 0']]\n",
      "[bnlearn] >Parameter learning> Computing parameters using [bayes]\n",
      "[bnlearn] >CPD of encre:\n",
      "+----------+----------+\n",
      "| encre(0) | 0.493636 |\n",
      "+----------+----------+\n",
      "| encre(1) | 0.506364 |\n",
      "+----------+----------+\n",
      "[bnlearn] >CPD of papier:\n",
      "+-----------+---------------------+--------------------+\n",
      "| encre     | encre(0)            | encre(1)           |\n",
      "+-----------+---------------------+--------------------+\n",
      "| papier(0) | 0.04604051565377532 | 0.6694793536804309 |\n",
      "+-----------+---------------------+--------------------+\n",
      "| papier(1) | 0.9539594843462247  | 0.3305206463195691 |\n",
      "+-----------+---------------------+--------------------+\n",
      "[bnlearn] >CPD of pilote:\n",
      "+-----------+-----------+---------------------+---------------------+---------------------+\n",
      "| encre     | encre(0)  | encre(0)            | encre(1)            | encre(1)            |\n",
      "+-----------+-----------+---------------------+---------------------+---------------------+\n",
      "| papier    | papier(0) | papier(1)           | papier(0)           | papier(1)           |\n",
      "+-----------+-----------+---------------------+---------------------+---------------------+\n",
      "| pilote(0) | 0.5       | 0.02413127413127413 | 0.03352105122016626 | 0.9321021184139054  |\n",
      "+-----------+-----------+---------------------+---------------------+---------------------+\n",
      "| pilote(1) | 0.5       | 0.9758687258687259  | 0.9664789487798338  | 0.06789788158609451 |\n",
      "+-----------+-----------+---------------------+---------------------+---------------------+\n",
      "[bnlearn] >CPD of question_paper:\n",
      "+-------------------+--------------------+---------------------+\n",
      "| papier            | papier(0)          | papier(1)           |\n",
      "+-------------------+--------------------+---------------------+\n",
      "| question_paper(0) | 0.6659964815280222 | 0.03560746332431278 |\n",
      "+-------------------+--------------------+---------------------+\n",
      "| question_paper(1) | 0.3340035184719779 | 0.9643925366756873  |\n",
      "+-------------------+--------------------+---------------------+\n",
      "[bnlearn] >CPD of question_ink:\n",
      "+-----------------+--------------------+---------------------+\n",
      "| encre           | encre(0)           | encre(1)            |\n",
      "+-----------------+--------------------+---------------------+\n",
      "| question_ink(0) | 0.6904235727440148 | 0.04488330341113106 |\n",
      "+-----------------+--------------------+---------------------+\n",
      "| question_ink(1) | 0.3095764272559853 | 0.9551166965888689  |\n",
      "+-----------------+--------------------+---------------------+\n",
      "[bnlearn] >CPD of question_screen:\n",
      "+--------------------+-----------+-----------+-----+--------------------+-------------------+-----------+\n",
      "| encre              | encre(0)  | encre(0)  | ... | encre(1)           | encre(1)          | encre(1)  |\n",
      "+--------------------+-----------+-----------+-----+--------------------+-------------------+-----------+\n",
      "| papier             | papier(0) | papier(0) | ... | papier(0)          | papier(1)         | papier(1) |\n",
      "+--------------------+-----------+-----------+-----+--------------------+-------------------+-----------+\n",
      "| pilote             | pilote(0) | pilote(1) | ... | pilote(1)          | pilote(0)         | pilote(1) |\n",
      "+--------------------+-----------+-----------+-----+--------------------+-------------------+-----------+\n",
      "| question_screen(0) | 0.5       | 0.5       | ... | 0.3161764705882353 | 0.666958041958042 | 0.5       |\n",
      "+--------------------+-----------+-----------+-----+--------------------+-------------------+-----------+\n",
      "| question_screen(1) | 0.5       | 0.5       | ... | 0.6838235294117647 | 0.333041958041958 | 0.5       |\n",
      "+--------------------+-----------+-----------+-----+--------------------+-------------------+-----------+\n",
      "[bnlearn] >CPD of action_addpaper:\n",
      "+--------------------+-----------+-----------+-----+----------------------+-----------+\n",
      "| encre              | encre(0)  | encre(0)  | ... | encre(1)             | encre(1)  |\n",
      "+--------------------+-----------+-----------+-----+----------------------+-----------+\n",
      "| papier             | papier(0) | papier(0) | ... | papier(1)            | papier(1) |\n",
      "+--------------------+-----------+-----------+-----+----------------------+-----------+\n",
      "| pilote             | pilote(0) | pilote(1) | ... | pilote(0)            | pilote(1) |\n",
      "+--------------------+-----------+-----------+-----+----------------------+-----------+\n",
      "| action_addpaper(0) | 0.5       | 0.5       | ... | 0.036421911421911424 | 0.5       |\n",
      "+--------------------+-----------+-----------+-----+----------------------+-----------+\n",
      "| action_addpaper(1) | 0.5       | 0.5       | ... | 0.9635780885780886   | 0.5       |\n",
      "+--------------------+-----------+-----------+-----+----------------------+-----------+\n",
      "[bnlearn] >CPD of action_addink:\n",
      "+------------------+-----------+-----------+-----------+-----+----------------------+-----------+\n",
      "| encre            | encre(0)  | encre(0)  | encre(0)  | ... | encre(1)             | encre(1)  |\n",
      "+------------------+-----------+-----------+-----------+-----+----------------------+-----------+\n",
      "| papier           | papier(0) | papier(0) | papier(1) | ... | papier(1)            | papier(1) |\n",
      "+------------------+-----------+-----------+-----------+-----+----------------------+-----------+\n",
      "| pilote           | pilote(0) | pilote(1) | pilote(0) | ... | pilote(0)            | pilote(1) |\n",
      "+------------------+-----------+-----------+-----------+-----+----------------------+-----------+\n",
      "| action_addink(0) | 0.5       | 0.5       | 0.5       | ... | 0.036421911421911424 | 0.5       |\n",
      "+------------------+-----------+-----------+-----------+-----+----------------------+-----------+\n",
      "| action_addink(1) | 0.5       | 0.5       | 0.5       | ... | 0.9635780885780886   | 0.5       |\n",
      "+------------------+-----------+-----------+-----------+-----+----------------------+-----------+\n",
      "[bnlearn] >CPD of action_reboot:\n",
      "+------------------+-----------+-----------+-----------+-----+----------------------+-----------+\n",
      "| encre            | encre(0)  | encre(0)  | encre(0)  | ... | encre(1)             | encre(1)  |\n",
      "+------------------+-----------+-----------+-----------+-----+----------------------+-----------+\n",
      "| papier           | papier(0) | papier(0) | papier(1) | ... | papier(1)            | papier(1) |\n",
      "+------------------+-----------+-----------+-----------+-----+----------------------+-----------+\n",
      "| pilote           | pilote(0) | pilote(1) | pilote(0) | ... | pilote(0)            | pilote(1) |\n",
      "+------------------+-----------+-----------+-----------+-----+----------------------+-----------+\n",
      "| action_reboot(0) | 0.5       | 0.5       | 0.5       | ... | 0.9635780885780886   | 0.5       |\n",
      "+------------------+-----------+-----------+-----------+-----+----------------------+-----------+\n",
      "| action_reboot(1) | 0.5       | 0.5       | 0.5       | ... | 0.036421911421911424 | 0.5       |\n",
      "+------------------+-----------+-----------+-----------+-----+----------------------+-----------+\n",
      "[bnlearn] >Compute structure scores ['k2', 'bds', 'bic', 'bdeu'] for model comparison (higher is better).\n"
     ]
    }
   ],
   "source": [
    "# Réponse:\n",
    "import pandas as pd\n",
    "dfa = pd.read_csv('data/TP5_data_printer.csv', sep=';')\n",
    "#DAG = bnlearn.parameter_learning.fit(DAG, dfa, methodtype='ml') #'ml' / 'bayes'\n",
    "DAG = bnlearn.parameter_learning.fit(DAG, dfa, methodtype='bayes')"
   ]
  },
  {
   "cell_type": "markdown",
   "metadata": {
    "id": "pnGEfUSVERTX"
   },
   "source": [
    "3.3 Quelle est la probabilité d'avoir un problème d'encre ? de papier ? de pilote ?"
   ]
  },
  {
   "cell_type": "code",
   "execution_count": 24,
   "metadata": {
    "id": "X76Mu2fOPiGl"
   },
   "outputs": [],
   "source": [
    "# Réponse:\n",
    "# encre: p(encre=0) = 0.5\n",
    "# papier: p(papier=0) = p(papier=0|encre=0)p(encre=0) + p(papier=0|encre=1)p(encre=1) ~ 0.0 + 0.7*0.5 = 0.35\n",
    "# pilot: p(pilote=0) = 0.15\n",
    "# ou en bayésien\n",
    "# encre: p(encre=0) = 0.49\n",
    "# papier: p(papier=0) = p(papier=0|encre=0)p(encre=0) + p(papier=0|encre=1)p(encre=1) ~ 0.05*0.5 + 0.7*0.5 ~ 0.37\n",
    "# pilot: p(pilote=0) = 0.17\n"
   ]
  },
  {
   "cell_type": "markdown",
   "metadata": {
    "id": "mAOytnFAERaf"
   },
   "source": [
    "3.4 Sachant qu'il y a du papier, quelle est la probabilité d'avoir un problème d'encre ? "
   ]
  },
  {
   "cell_type": "code",
   "execution_count": 25,
   "metadata": {
    "colab": {
     "base_uri": "https://localhost:8080/"
    },
    "id": "WYYO9DRsPio8",
    "outputId": "db55baad-1808-464b-88df-1f3fc1e29e3d"
   },
   "outputs": [
    {
     "name": "stdout",
     "output_type": "stream",
     "text": [
      "[bnlearn] >Variable Elimination..\n",
      "[bnlearn] >Data is stored in [query.df]\n",
      "+----+---------+----------+\n",
      "|    |   encre |        p |\n",
      "+====+=========+==========+\n",
      "|  0 |       0 | 0.627044 |\n",
      "+----+---------+----------+\n",
      "|  1 |       1 | 0.372956 |\n",
      "+----+---------+----------+\n"
     ]
    }
   ],
   "source": [
    "# Réponse:\n",
    "q1 = bnlearn.inference.fit(DAG, variables=['encre'], evidence={'question_paper': 1})\n",
    "# encre(0)"
   ]
  },
  {
   "cell_type": "markdown",
   "metadata": {
    "id": "oKpjlQHtYuQB"
   },
   "source": [
    "3.5 Sachant qu'il y a un message sur l'écran, quelle est la probabilité d'avoir un problème de pilote ?"
   ]
  },
  {
   "cell_type": "code",
   "execution_count": 26,
   "metadata": {
    "colab": {
     "base_uri": "https://localhost:8080/"
    },
    "id": "etBq9iHaY0jt",
    "outputId": "f706c673-3d59-480f-e10b-f4843219d48d"
   },
   "outputs": [
    {
     "name": "stdout",
     "output_type": "stream",
     "text": [
      "[bnlearn] >Variable Elimination..\n",
      "[bnlearn] >Data is stored in [query.df]\n",
      "+----+----------+----------+\n",
      "|    |   pilote |        p |\n",
      "+====+==========+==========+\n",
      "|  0 |        0 | 0.323694 |\n",
      "+----+----------+----------+\n",
      "|  1 |        1 | 0.676306 |\n",
      "+----+----------+----------+\n"
     ]
    }
   ],
   "source": [
    "# Réponse:\n",
    "q1 = bnlearn.inference.fit(DAG, variables=['pilote'], evidence={'question_screen':0})\n",
    "# pilote(0)"
   ]
  },
  {
   "cell_type": "markdown",
   "metadata": {
    "id": "HakxbA35ERgo"
   },
   "source": [
    "3.6 Quelle est la probabilité de succès par un reboot de la machine, sachant qu'il y a du papier ?"
   ]
  },
  {
   "cell_type": "code",
   "execution_count": 27,
   "metadata": {
    "colab": {
     "base_uri": "https://localhost:8080/"
    },
    "id": "0XIfHVpdEPwQ",
    "outputId": "af87d6b6-abfc-4885-af5b-e425fa4bd8f0"
   },
   "outputs": [
    {
     "name": "stdout",
     "output_type": "stream",
     "text": [
      "[bnlearn] >Variable Elimination..\n",
      "[bnlearn] >Data is stored in [query.df]\n",
      "+----+-----------------+----------+\n",
      "|    |   action_reboot |        p |\n",
      "+====+=================+==========+\n",
      "|  0 |               0 | 0.244592 |\n",
      "+----+-----------------+----------+\n",
      "|  1 |               1 | 0.755408 |\n",
      "+----+-----------------+----------+\n"
     ]
    }
   ],
   "source": [
    "# réponse\n",
    "q1 = bnlearn.inference.fit(DAG, variables=['action_reboot'], evidence={'question_paper':1})\n",
    "# action_reboot(0)"
   ]
  },
  {
   "cell_type": "markdown",
   "metadata": {
    "id": "apq2c6qrcdXQ"
   },
   "source": [
    "3.7 Quelle action entreprendre sachant qu'il y a du papier et que l'écran montre une erreur ?"
   ]
  },
  {
   "cell_type": "code",
   "execution_count": 28,
   "metadata": {
    "colab": {
     "base_uri": "https://localhost:8080/"
    },
    "id": "4d7WMNOAbQq7",
    "outputId": "c60d4b22-7f36-4423-e4ad-79ed385769b5"
   },
   "outputs": [
    {
     "name": "stdout",
     "output_type": "stream",
     "text": [
      "[bnlearn] >Variable Elimination..\n",
      "[bnlearn] >Data is stored in [query.df]\n",
      "+----+-----------------+----------+\n",
      "|    |   action_reboot |        p |\n",
      "+====+=================+==========+\n",
      "|  0 |               0 | 0.389052 |\n",
      "+----+-----------------+----------+\n",
      "|  1 |               1 | 0.610948 |\n",
      "+----+-----------------+----------+\n",
      "[bnlearn] >Variable Elimination..\n",
      "[bnlearn] >Data is stored in [query.df]\n",
      "+----+-------------------+----------+\n",
      "|    |   action_addpaper |        p |\n",
      "+====+===================+==========+\n",
      "|  0 |                 0 | 0.167273 |\n",
      "+----+-------------------+----------+\n",
      "|  1 |                 1 | 0.832727 |\n",
      "+----+-------------------+----------+\n",
      "[bnlearn] >Variable Elimination..\n",
      "[bnlearn] >Data is stored in [query.df]\n",
      "+----+-----------------+----------+\n",
      "|    |   action_addink |        p |\n",
      "+====+=================+==========+\n",
      "|  0 |               0 | 0.505983 |\n",
      "+----+-----------------+----------+\n",
      "|  1 |               1 | 0.494017 |\n",
      "+----+-----------------+----------+\n"
     ]
    }
   ],
   "source": [
    "# Réponse\n",
    "qreboot = bnlearn.inference.fit(DAG, variables=['action_reboot'], evidence={'question_paper':1, 'question_screen':0})\n",
    "qaddpaper = bnlearn.inference.fit(DAG, variables=['action_addpaper'], evidence={'question_paper':1, 'question_screen':0})\n",
    "qaddink = bnlearn.inference.fit(DAG, variables=['action_addink'], evidence={'question_paper':1, 'question_screen':0})\n",
    "# max(q) (addink)"
   ]
  },
  {
   "cell_type": "code",
   "execution_count": null,
   "metadata": {},
   "outputs": [],
   "source": []
  },
  {
   "cell_type": "code",
   "execution_count": null,
   "metadata": {},
   "outputs": [],
   "source": []
  },
  {
   "cell_type": "code",
   "execution_count": null,
   "metadata": {},
   "outputs": [],
   "source": []
  }
 ],
 "metadata": {
  "colab": {
   "collapsed_sections": [],
   "name": "Maintenance_TP5_student_correction.ipynb",
   "provenance": []
  },
  "kernelspec": {
   "display_name": "Python 3",
   "language": "python",
   "name": "python3"
  },
  "language_info": {
   "codemirror_mode": {
    "name": "ipython",
    "version": 3
   },
   "file_extension": ".py",
   "mimetype": "text/x-python",
   "name": "python",
   "nbconvert_exporter": "python",
   "pygments_lexer": "ipython3",
   "version": "3.8.5"
  }
 },
 "nbformat": 4,
 "nbformat_minor": 1
}
